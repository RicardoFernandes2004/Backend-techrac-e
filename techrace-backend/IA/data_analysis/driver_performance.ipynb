{
 "cells": [
  {
   "cell_type": "code",
   "execution_count": 99,
   "metadata": {},
   "outputs": [
    {
     "data": {
      "text/html": [
       "<div>\n",
       "<style scoped>\n",
       "    .dataframe tbody tr th:only-of-type {\n",
       "        vertical-align: middle;\n",
       "    }\n",
       "\n",
       "    .dataframe tbody tr th {\n",
       "        vertical-align: top;\n",
       "    }\n",
       "\n",
       "    .dataframe thead th {\n",
       "        text-align: right;\n",
       "    }\n",
       "</style>\n",
       "<table border=\"1\" class=\"dataframe\">\n",
       "  <thead>\n",
       "    <tr style=\"text-align: right;\">\n",
       "      <th></th>\n",
       "      <th>season</th>\n",
       "      <th>race_num</th>\n",
       "      <th>race_name</th>\n",
       "      <th>race_date</th>\n",
       "      <th>driver</th>\n",
       "      <th>car</th>\n",
       "      <th>team</th>\n",
       "      <th>team_group</th>\n",
       "      <th>rank</th>\n",
       "      <th>rank_num</th>\n",
       "      <th>grid</th>\n",
       "      <th>laps</th>\n",
       "      <th>time_retired</th>\n",
       "      <th>pts_rank</th>\n",
       "      <th>pts_pole</th>\n",
       "      <th>pts_bonus</th>\n",
       "      <th>points</th>\n",
       "    </tr>\n",
       "  </thead>\n",
       "  <tbody>\n",
       "    <tr>\n",
       "      <th>0</th>\n",
       "      <td>2</td>\n",
       "      <td>2</td>\n",
       "      <td>2015 Putrajaya</td>\n",
       "      <td>2015-11-07</td>\n",
       "      <td>Lucas di Grassi</td>\n",
       "      <td>11</td>\n",
       "      <td>ABT Schaeffler Audi Sport</td>\n",
       "      <td>Audi</td>\n",
       "      <td>1</td>\n",
       "      <td>1</td>\n",
       "      <td>6</td>\n",
       "      <td>33</td>\n",
       "      <td>50:17.449</td>\n",
       "      <td>25</td>\n",
       "      <td>0</td>\n",
       "      <td>0</td>\n",
       "      <td>25</td>\n",
       "    </tr>\n",
       "    <tr>\n",
       "      <th>1</th>\n",
       "      <td>1</td>\n",
       "      <td>4</td>\n",
       "      <td>2015 Buenos Aires</td>\n",
       "      <td>2015-01-10</td>\n",
       "      <td>António Félix da Costa</td>\n",
       "      <td>55</td>\n",
       "      <td>Amlin Aguri</td>\n",
       "      <td>Techeetah</td>\n",
       "      <td>1</td>\n",
       "      <td>1</td>\n",
       "      <td>8</td>\n",
       "      <td>35</td>\n",
       "      <td>48:52.100</td>\n",
       "      <td>25</td>\n",
       "      <td>0</td>\n",
       "      <td>0</td>\n",
       "      <td>25</td>\n",
       "    </tr>\n",
       "    <tr>\n",
       "      <th>2</th>\n",
       "      <td>5</td>\n",
       "      <td>1</td>\n",
       "      <td>2018 Ad Diriyah</td>\n",
       "      <td>2018-12-15</td>\n",
       "      <td>António Félix da Costa</td>\n",
       "      <td>28</td>\n",
       "      <td>Andretti-BMW</td>\n",
       "      <td>BMW-Andretti</td>\n",
       "      <td>1</td>\n",
       "      <td>1</td>\n",
       "      <td>1</td>\n",
       "      <td>33</td>\n",
       "      <td>46:29.377</td>\n",
       "      <td>25</td>\n",
       "      <td>3</td>\n",
       "      <td>0</td>\n",
       "      <td>28</td>\n",
       "    </tr>\n",
       "    <tr>\n",
       "      <th>3</th>\n",
       "      <td>6</td>\n",
       "      <td>2</td>\n",
       "      <td>2019 Diriyah race 2</td>\n",
       "      <td>2019-11-23</td>\n",
       "      <td>Alexander Sims</td>\n",
       "      <td>27</td>\n",
       "      <td>Andretti-BMW</td>\n",
       "      <td>BMW-Andretti</td>\n",
       "      <td>1</td>\n",
       "      <td>1</td>\n",
       "      <td>1</td>\n",
       "      <td>30</td>\n",
       "      <td>46:48.327</td>\n",
       "      <td>25</td>\n",
       "      <td>3</td>\n",
       "      <td>0</td>\n",
       "      <td>28</td>\n",
       "    </tr>\n",
       "    <tr>\n",
       "      <th>4</th>\n",
       "      <td>6</td>\n",
       "      <td>3</td>\n",
       "      <td>2020 Santiago</td>\n",
       "      <td>2020-01-18</td>\n",
       "      <td>Maximilian Günther</td>\n",
       "      <td>28</td>\n",
       "      <td>Andretti-BMW</td>\n",
       "      <td>BMW-Andretti</td>\n",
       "      <td>1</td>\n",
       "      <td>1</td>\n",
       "      <td>2</td>\n",
       "      <td>40</td>\n",
       "      <td>46:11.511</td>\n",
       "      <td>25</td>\n",
       "      <td>0</td>\n",
       "      <td>0</td>\n",
       "      <td>25</td>\n",
       "    </tr>\n",
       "  </tbody>\n",
       "</table>\n",
       "</div>"
      ],
      "text/plain": [
       "   season  race_num            race_name   race_date                  driver  \\\n",
       "0       2         2       2015 Putrajaya  2015-11-07         Lucas di Grassi   \n",
       "1       1         4    2015 Buenos Aires  2015-01-10  António Félix da Costa   \n",
       "2       5         1      2018 Ad Diriyah  2018-12-15  António Félix da Costa   \n",
       "3       6         2  2019 Diriyah race 2  2019-11-23          Alexander Sims   \n",
       "4       6         3        2020 Santiago  2020-01-18      Maximilian Günther   \n",
       "\n",
       "   car                       team    team_group rank  rank_num grid laps  \\\n",
       "0   11  ABT Schaeffler Audi Sport          Audi    1         1    6   33   \n",
       "1   55                Amlin Aguri     Techeetah    1         1    8   35   \n",
       "2   28               Andretti-BMW  BMW-Andretti    1         1    1   33   \n",
       "3   27               Andretti-BMW  BMW-Andretti    1         1    1   30   \n",
       "4   28               Andretti-BMW  BMW-Andretti    1         1    2   40   \n",
       "\n",
       "  time_retired  pts_rank  pts_pole  pts_bonus  points  \n",
       "0    50:17.449        25         0          0      25  \n",
       "1    48:52.100        25         0          0      25  \n",
       "2    46:29.377        25         3          0      28  \n",
       "3    46:48.327        25         3          0      28  \n",
       "4    46:11.511        25         0          0      25  "
      ]
     },
     "execution_count": 99,
     "metadata": {},
     "output_type": "execute_result"
    }
   ],
   "source": [
    "import pandas as pd\n",
    "import matplotlib.pyplot as plt\n",
    "\n",
    "# Carregar os dados históricos de corridas\n",
    "data = pd.read_csv('C:/Users/a1197/Documents/GitHub/Backend-techrac-e/techrace-backend/IA/formula_e_race_results.csv')\n",
    "\n",
    "# Mostrar as primeiras linhas do CSV\n",
    "data.head()\n"
   ]
  },
  {
   "cell_type": "code",
   "execution_count": 100,
   "metadata": {},
   "outputs": [
    {
     "name": "stdout",
     "output_type": "stream",
     "text": [
      "Dados duplicados:  0\n"
     ]
    }
   ],
   "source": [
    "\n",
    "# Verificar se há dados duplicados\n",
    "print(\"Dados duplicados: \", data.duplicated().sum())\n"
   ]
  },
  {
   "cell_type": "code",
   "execution_count": 101,
   "metadata": {},
   "outputs": [
    {
     "name": "stdout",
     "output_type": "stream",
     "text": [
      "Valores ausentes:  season           0\n",
      "race_num         0\n",
      "race_name        0\n",
      "race_date        0\n",
      "driver           0\n",
      "car              0\n",
      "team             0\n",
      "team_group       0\n",
      "rank             0\n",
      "rank_num         0\n",
      "grid             0\n",
      "laps             0\n",
      "time_retired    20\n",
      "pts_rank         0\n",
      "pts_pole         0\n",
      "pts_bonus        0\n",
      "points           0\n",
      "dtype: int64\n"
     ]
    }
   ],
   "source": [
    "# Verificar valores ausentes\n",
    "print(\"Valores ausentes: \", data.isnull().sum())"
   ]
  },
  {
   "cell_type": "code",
   "execution_count": 102,
   "metadata": {},
   "outputs": [],
   "source": [
    "# Ordenar os dados pela ordem das corridas\n",
    "data = data.sort_values(by=['driver', 'race_num'])\n",
    "\n",
    "# Lista para armazenar os resultados\n",
    "season_performance = []\n",
    "\n",
    "# Definir o número de corridas por intervalo que queremos analisar\n",
    "intervalo_corridas = 5"
   ]
  },
  {
   "cell_type": "code",
   "execution_count": 103,
   "metadata": {},
   "outputs": [
    {
     "name": "stdout",
     "output_type": "stream",
     "text": [
      "Verificar ordem das corridas para um piloto:\n",
      "      race_num  rank_num\n",
      "12           1         1\n",
      "71           1         2\n",
      "92           1         2\n",
      "578          1         9\n",
      "580          1         9\n",
      "...        ...       ...\n",
      "579         11         9\n",
      "84          12         2\n",
      "289         12         5\n",
      "444         12         7\n",
      "1217        13        18\n",
      "\n",
      "[71 rows x 2 columns]\n"
     ]
    }
   ],
   "source": [
    "# Verificar se os números das corridas estão em ordem\n",
    "print(\"Verificar ordem das corridas para um piloto:\")\n",
    "print(data[data['driver'] == 'Lucas di Grassi'][['race_num', 'rank_num']])"
   ]
  },
  {
   "cell_type": "code",
   "execution_count": 104,
   "metadata": {},
   "outputs": [
    {
     "name": "stdout",
     "output_type": "stream",
     "text": [
      "         driver  interval_start  interval_end  avg_position  top_3_finishes\n",
      "0  Adam Carroll               1             5          13.0               0\n",
      "1  Adam Carroll               6            10          13.2               0\n",
      "2  Adam Carroll              11            12          15.0               0\n",
      "3  Alex Fontana              10            11          16.0               0\n",
      "4     Alex Lynn               1             3          14.4               0\n"
     ]
    }
   ],
   "source": [
    "\n",
    "\n",
    "# Loop para calcular o desempenho em intervalos de X corridas para cada piloto\n",
    "for driver in data['driver'].unique():\n",
    "    driver_data = data[data['driver'] == driver]\n",
    "    \n",
    "    # Dividir as corridas em blocos de 5 e calcular a média de posição\n",
    "    for i in range(0, len(driver_data), intervalo_corridas):\n",
    "        bloco_corridas = driver_data.iloc[i:i+intervalo_corridas]\n",
    "        \n",
    "        # Calcular a média de posição do bloco de corridas\n",
    "        avg_position = bloco_corridas['rank_num'].mean()\n",
    "        top_3_finishes = sum(bloco_corridas['rank_num'] <= 3)\n",
    "        \n",
    "        # Adicionar os resultados à lista\n",
    "        season_performance.append({\n",
    "            'driver': driver,\n",
    "            'interval_start': bloco_corridas['race_num'].min(),\n",
    "            'interval_end': bloco_corridas['race_num'].max(),\n",
    "            'avg_position': avg_position,\n",
    "            'top_3_finishes': top_3_finishes\n",
    "        })\n",
    "\n",
    "# Converter os resultados para um DataFrame\n",
    "season_performance_df = pd.DataFrame(season_performance)\n",
    "\n",
    "# Visualizar as primeiras linhas do DataFrame final\n",
    "print(season_performance_df.head())\n"
   ]
  },
  {
   "cell_type": "code",
   "execution_count": 105,
   "metadata": {},
   "outputs": [
    {
     "data": {
      "image/png": "[encoded data removed]",
      "text/plain": [
       "<Figure size 640x480 with 1 Axes>"
      ]
     },
     "metadata": {},
     "output_type": "display_data"
    }
   ],
   "source": [
    "# plotando o grafico\n",
    "pilot_data = season_performance_df[season_performance_df['driver'] == 'Lucas di Grassi']\n",
    "plt.plot(pilot_data['interval_start'], pilot_data['avg_position'], marker='o')\n",
    "plt.title(f'Desempenho de Lucas di Grassi ao longo das corridas')\n",
    "plt.xlabel('Corridas (race_num)')\n",
    "plt.ylabel('Posição Média')\n",
    "plt.show()"
   ]
  }
 ],
 "metadata": {
  "kernelspec": {
   "display_name": "base",
   "language": "python",
   "name": "python3"
  },
  "language_info": {
   "codemirror_mode": {
    "name": "ipython",
    "version": 3
   },
   "file_extension": ".py",
   "mimetype": "text/x-python",
   "name": "python",
   "nbconvert_exporter": "python",
   "pygments_lexer": "ipython3",
   "version": "3.11.7"
  }
 },
 "nbformat": 4,
 "nbformat_minor": 2
}
